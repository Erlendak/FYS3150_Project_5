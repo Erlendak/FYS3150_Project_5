{
 "cells": [
  {
   "cell_type": "markdown",
   "metadata": {},
   "source": [
    "$Kode \\space : \\space C++(Python)\\space \\space \\space , \\space \\space \\space  Dato \\space : \\space 15.12.2019 \\space \\space \\space , \\space\\space\\space Emne \\space : \\space Fys3150 \\space \\space \\space , \\space \\space \\space  Prosjekt \\space : \\space 5$\n",
    "\n",
    "$ Navn \\space : \\space Roshan \\space Azam \\space , \\space Erlend \\space Akre $"
   ]
  },
  {
   "cell_type": "markdown",
   "metadata": {},
   "source": [
    "# Partielle differensialligninger; Diffusjonsligninen"
   ]
  },
  {
   "cell_type": "markdown",
   "metadata": {},
   "source": [
    "### Matrise for Backward Euler\n",
    "Backward Euler er en implisitt metode for å løse partiell differanse likninger. Vi kan sette det opp på matriseform ved:\n",
    "\n",
    "$$u_t\\approx \\frac{u(x_i,t_j)-u(x_i,t_j+\\Delta t)}{\\Delta t}$$ og\n",
    "\n",
    "$$u_{xx}\\approx \\frac{u(x_i+\\Delta x,t_j)-2u(x_i,t_j)+u(x_i-\\Delta x,t_j)}{\\Delta x^2}$$\n",
    "Vi løser dette ved å sette $u_t$ = $u_{xx}$ og sette alt som beveger seg i tid på en side:\n",
    "\n",
    "Har likningen:\n",
    "\n",
    "$$\\frac{u(x_i,t_j)-u(x_i,t_j+\\Delta t)}{\\Delta t} = \\frac{u(x_i+\\Delta x,t_j)-2u(x_i,t_j)+u(x_i-\\Delta x,t_j)}{\\Delta x^2}$$.\n",
    "Vi ganger på begge sider med $\\Delta t$, og vi lar $\\alpha = \\frac{\\Delta t}{\\Delta x^2}$. I tillegg til dette flytter vi $u(x_i,t_j)$ til den andre siden slik at vi har alt med hensyn på tid på en side. \n",
    "\n",
    "$$-u(x_i,t_j+\\Delta t) = -u(x_i,t_j)+\\alpha \\cdot (u(x_i+\\Delta x,t_j)-2u(x_i,t_j)+u(x_i-\\Delta x,t_j))$$\n",
    "Vi ganger så med $-1$ på begge sider og får:\n",
    "\n",
    "$$u(x_i,t_j+\\Delta t) = u(x_i,t_j) +  \\cdot (-\\alpha u(x_i+\\Delta x,t_j)+2\\alpha u(x_i,t_j)-\\alpha u(x_i-\\Delta x,t_j))$$\n",
    "Og står igjen med:\n",
    "\n",
    "$$u(x_i,t_j+\\Delta t) = -\\alpha u(x_i+\\Delta x,t_j)+(1+2\\alpha)u(x_i,t_j)-\\alpha u(x_i-\\Delta x,t_j)$$\n",
    "\n",
    "Nå som vi har utrykket kan vi sette opp en tridiagonal matrise. Lar vi f.eks i = 1 og j=1 så vil utrykket gi oss:\n",
    "$$u(x_1,t_2) = -\\alpha u(x_2,t_1)+(1+2\\alpha)u(x_1,t_1)-\\alpha u(x_0,t_1)$$\n",
    "\n",
    "Gjør vi dette helt opp til n, får vi da:\n",
    "$$ \\mathbf{A}=\\begin{bmatrix}1+2\\alpha&-\\alpha&0& 0 &\\dots\\\\ \n",
    "                            -\\alpha&1+2\\alpha&-\\alpha & 0 & \\dots \\\\ \n",
    "                            \\dots & \\dots & \\dots & \\dots &\\dots  \\\\\n",
    "                            \\dots & \\dots & \\dots & \\dots & -\\alpha \\\\\n",
    "                      0 & 0 &\\dots &-\\alpha& 1+2\\alpha\\end{bmatrix}$$\n",
    "               \n"
   ]
  },
  {
   "cell_type": "markdown",
   "metadata": {},
   "source": [
    "### Matrise for Crank-Nicolson\n",
    "Crank-Nicolson er også en implisitt metode for å løse PDE, vi bruker samme metode til å sette opp en tridiagonal matrise.\n",
    "For Crank-Nicolson har vi utrykkene:\n",
    "\n",
    "$$u_t\\approx \\frac{u(x_i,t_j+\\Delta t)-u(x_i,t_j)}{\\Delta t}$$ og \n",
    "\n",
    "$$u_{xx} \\approx \\frac{1}{2}(\\frac{u(x_i+\\Delta x, t_j)-2u(x_i,t_i)+u(x_i-\\Delta x)}{\\Delta x^2} + \\frac{u(x_i + \\Delta x, t_j + \\Delta t)- 2u(x_i, t_j + \\Delta t) + u(x_i - \\Delta x, t_j + \\Delta t)}{\\Delta x^2})$$\n",
    "\n",
    "Vi setter så opp likningen:\n",
    "\n",
    "$$\\frac{u(x_i,t_j+\\Delta t)-u(x_i,t_j)}{\\Delta t} = \\frac{1}{2}(\\frac{u(x_i+\\Delta x, t_j)-2u(x_i,t_i)+u(x_i-\\Delta x)}{\\Delta x^2} + \\frac{u(x_i + \\Delta x, t_j + \\Delta t)- 2u(x_i, t_j + \\Delta t) + u(x_i - \\Delta x, t_j + \\Delta t)}{\\Delta x^2}$$\n",
    "\n",
    "Setter vi inn at $\\alpha = \\frac{\\Delta t}{\\Delta x^2}$, kan vi skrive dette om som: \n",
    "\n",
    "$$ -\\alpha u(x_i-\\Delta x,t_j)+\\left(2+2\\alpha\\right)u(x_i,t_j)-\\alpha u(x_i+\\Delta x,t_j)=\n",
    "  \\alpha u(x_i-\\Delta x,t_j - \\Delta t)+\\left(2-2\\alpha\\right)u(x_i,t_j-\\Delta t)+\\alpha u(x_i+\\Delta x,t_j+\\Delta t)$$\n",
    "  \n",
    "Dette kan skrives om til:\n",
    "\n",
    "\n"
   ]
  },
  {
   "cell_type": "markdown",
   "metadata": {},
   "source": [
    "### Stabilitet\n",
    "Crank-Nicolson og Backward Euler er stabile for alle $\\Delta t$ og $\\Delta x$. Dette er fordi de er implisitte metodene den spektrale radiusen $\\rho(A)<1$. Dette er fordi matrisene er positiv definit, som betyr at alle egenverdiene er større enn 0. Vi ser fra $A = I+\\alpha B$ har egenverdiene $\\lambda_i = 1+\\alpha(2-2cos(\\theta))$ som tilfredstiller $\\lambda_i > 1$. Vi har da $\\rho(A^{-1})<1$ som gjør metoden stabil for alle kombinasjoner av $\\Delta t$ og $\\Delta x$. \n",
    "\n",
    "Forward Euler er bare stabil når $\\Delta t = \\frac{1}{2} \\Delta x^2$, dette er fordi.."
   ]
  },
  {
   "cell_type": "code",
   "execution_count": null,
   "metadata": {},
   "outputs": [],
   "source": []
  }
 ],
 "metadata": {
  "kernelspec": {
   "display_name": "Python 3",
   "language": "python",
   "name": "python3"
  },
  "language_info": {
   "codemirror_mode": {
    "name": "ipython",
    "version": 3
   },
   "file_extension": ".py",
   "mimetype": "text/x-python",
   "name": "python",
   "nbconvert_exporter": "python",
   "pygments_lexer": "ipython3",
   "version": "3.6.9"
  }
 },
 "nbformat": 4,
 "nbformat_minor": 2
}
